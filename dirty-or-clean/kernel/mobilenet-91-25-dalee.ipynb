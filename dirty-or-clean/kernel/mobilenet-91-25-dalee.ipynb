{
 "cells": [
  {
   "cell_type": "code",
   "execution_count": 1,
   "metadata": {
    "_cell_guid": "b1076dfc-b9ad-4769-8c92-a6c4dae69d19",
    "_uuid": "8f2839f25d086af736a60e9eeb907d3b93b6e0e5"
   },
   "outputs": [
    {
     "ename": "ModuleNotFoundError",
     "evalue": "No module named 'torch'",
     "output_type": "error",
     "traceback": [
      "\u001b[0;31m---------------------------------------------------------------------------\u001b[0m",
      "\u001b[0;31mModuleNotFoundError\u001b[0m                       Traceback (most recent call last)",
      "\u001b[0;32m<ipython-input-1-67b7159b07ed>\u001b[0m in \u001b[0;36m<module>\u001b[0;34m\u001b[0m\n\u001b[1;32m     11\u001b[0m \u001b[0;32mfrom\u001b[0m \u001b[0mtqdm\u001b[0m \u001b[0;32mimport\u001b[0m \u001b[0mtqdm\u001b[0m   \u001b[0;31m# Progress bar iterator\u001b[0m\u001b[0;34m\u001b[0m\u001b[0;34m\u001b[0m\u001b[0m\n\u001b[1;32m     12\u001b[0m \u001b[0;34m\u001b[0m\u001b[0m\n\u001b[0;32m---> 13\u001b[0;31m \u001b[0;32mimport\u001b[0m \u001b[0mtorch\u001b[0m\u001b[0;34m\u001b[0m\u001b[0;34m\u001b[0m\u001b[0m\n\u001b[0m\u001b[1;32m     14\u001b[0m \u001b[0;32mimport\u001b[0m \u001b[0mtorchvision\u001b[0m\u001b[0;34m\u001b[0m\u001b[0;34m\u001b[0m\u001b[0m\n\u001b[1;32m     15\u001b[0m \u001b[0;32mfrom\u001b[0m \u001b[0mtorchvision\u001b[0m \u001b[0;32mimport\u001b[0m \u001b[0mtransforms\u001b[0m\u001b[0;34m,\u001b[0m \u001b[0mmodels\u001b[0m\u001b[0;34m\u001b[0m\u001b[0;34m\u001b[0m\u001b[0m\n",
      "\u001b[0;31mModuleNotFoundError\u001b[0m: No module named 'torch'"
     ]
    }
   ],
   "source": [
    "import numpy as np # linear algebra\n",
    "import pandas as pd # data processing, CSV file I/O (e.g. pd.read_csv)\n",
    "import matplotlib.pyplot as plt\n",
    "\n",
    "import random\n",
    "import os\n",
    "import shutil \n",
    "import time\n",
    "import copy\n",
    "\n",
    "from tqdm import tqdm   # Progress bar iterator\n",
    "\n",
    "import torch\n",
    "import torchvision\n",
    "from torchvision import transforms, models\n",
    "\n",
    "random.seed(6)\n",
    "np.random.seed(6)\n",
    "torch.manual_seed(6)\n",
    "torch.cuda.manual_seed(6)\n",
    "torch.backends.cudnn.deterministic = True\n",
    "torch.backends.cudnn.benchmark = False\n",
    "\n",
    "# Any results you write to the current directory are saved as output.\n",
    "print(os.listdir(\"../input\"))"
   ]
  },
  {
   "cell_type": "code",
   "execution_count": null,
   "metadata": {},
   "outputs": [],
   "source": [
    "# Если что-то осталось после предыдущих запусков - удалим это\n",
    "#!rmdir train test val /s /q\n",
    "!rm -rf train val test"
   ]
  },
  {
   "cell_type": "code",
   "execution_count": null,
   "metadata": {},
   "outputs": [],
   "source": [
    "data_root = '../input/plates/plates'\n",
    "print(os.listdir(data_root))"
   ]
  },
  {
   "cell_type": "code",
   "execution_count": null,
   "metadata": {
    "_cell_guid": "79c7e3d0-c299-4dcb-8224-4455121ee9b0",
    "_uuid": "d629ff2d2480ee46fbb7e2d37f6b5fab8052498a"
   },
   "outputs": [],
   "source": [
    "train_dir = 'train'\n",
    "val_dir = 'val'\n",
    "\n",
    "class_names = ['cleaned', 'dirty']\n",
    "\n",
    "# Создали дерево каталогов (train/clean, train/dirty, val/clean, val/dirty)\n",
    "for dir_name in [train_dir, val_dir]:\n",
    "    for class_name in class_names:\n",
    "        os.makedirs(os.path.join(dir_name, class_name), exist_ok=True)\n",
    "\n",
    "# Копируем картинки по нужным папкам (каждая шестая в validation)\n",
    "for class_name in class_names:\n",
    "    source_dir = os.path.join(data_root, 'train', class_name)\n",
    "\n",
    "    for i, file_name in enumerate(tqdm(sorted(os.listdir(source_dir)))):\n",
    "        dest_dir = os.path.join(train_dir, class_name)\n",
    "        shutil.copy(os.path.join(source_dir, file_name), os.path.join(dest_dir, file_name))\n",
    "        \n",
    "    # Временный кусок, удалить\n",
    "    source_dir = os.path.join(data_root, 'val', class_name)\n",
    "    for i, file_name in enumerate(tqdm(sorted(os.listdir(source_dir)))):\n",
    "        dest_dir = os.path.join(val_dir, class_name)\n",
    "        shutil.copy(os.path.join(source_dir, file_name), os.path.join(dest_dir, file_name))\n",
    "    source_dir = os.path.join(data_root, 'train', class_name)\n",
    "\n",
    "#     source_dir = os.path.join(data_root, 'train', class_name)\n",
    "#     for i, file_name in enumerate(tqdm(sorted(os.listdir(source_dir)))):\n",
    "#         dest_dir = os.path.join(train_dir, class_name)\n",
    "#         shutil.copy(os.path.join(source_dir, file_name), os.path.join(dest_dir, file_name))\n",
    "#         if i % 6 == 0:  # Val делаем только для галочки, влиять ни на что не будет\n",
    "#             dest_dir = os.path.join(val_dir, class_name)\n",
    "#             shutil.copy(os.path.join(source_dir, file_name), os.path.join(dest_dir, file_name))\n",
    "\n",
    "#     for i, file_name in enumerate(tqdm(sorted(os.listdir(source_dir)))):\n",
    "#         if i % 6 != 0:\n",
    "#             dest_dir = os.path.join(train_dir, class_name)\n",
    "#         else:\n",
    "#             dest_dir = os.path.join(val_dir, class_name)\n",
    "#         shutil.copy(os.path.join(source_dir, file_name), os.path.join(dest_dir, file_name))"
   ]
  },
  {
   "cell_type": "code",
   "execution_count": null,
   "metadata": {},
   "outputs": [],
   "source": [
    "# Трансформации - приведение картинок к общему виду\n",
    "# Normalize - Нужно отнять 3 константы от RGB и поделить на 3 другие константы\n",
    "# См. мануал по ResNet на сайте PyTorch, там объяснено\n",
    "\n",
    "train_transforms = transforms.Compose([\n",
    "    transforms.RandomRotation(degrees=15),\n",
    "    #transforms.RandomPerspective(distortion_scale=0.1, p=0.25),\n",
    "    transforms.RandomResizedCrop(224, scale=(0.75, 1.0)),\n",
    "    #transforms.CenterCrop(224),\n",
    "    transforms.RandomHorizontalFlip(),\n",
    "    #transforms.Grayscale(3),\n",
    "    transforms.ColorJitter(brightness=0.3, contrast=0.2, saturation=0.3, hue=0.2),\n",
    "    transforms.ToTensor(),\n",
    "    transforms.Normalize(mean=[0.485, 0.456, 0.406],\n",
    "                         std=[0.229, 0.224, 0.225])\n",
    "])\n",
    "\n",
    "# Генерируем датасеты. Лейблы берутся из названия папки файла, а сами картинки приводятся к общему виду\n",
    "# train_dataset = torchvision.datasets.ImageFolder(train_dir, train_transforms) \n",
    "\n",
    "train_dataset = torchvision.datasets.ImageFolder(train_dir, train_transforms)\n",
    "for i in range(4-1):\n",
    "    temp_dataset = torchvision.datasets.ImageFolder(train_dir, train_transforms)\n",
    "    train_dataset = torch.utils.data.ConcatDataset([train_dataset, temp_dataset])\n",
    "\n",
    "# То же самое для Validation\n",
    "val_transforms = transforms.Compose([\n",
    "    transforms.Resize((224, 224)),\n",
    "    transforms.ToTensor(),\n",
    "    transforms.Normalize(mean=[0.485, 0.456, 0.406],\n",
    "                         std=[0.229, 0.224, 0.225])\n",
    "])\n",
    "\n",
    "val_dataset = torchvision.datasets.ImageFolder(val_dir, val_transforms)\n",
    "\n",
    "\n",
    "# Создаём объекты - генераторы пакетов (батчей). num_workers - кол-во одновременных тредов\n",
    "\n",
    "\n",
    "batch_size = 40\n",
    "\n",
    "\n",
    "train_dataloader = torch.utils.data.DataLoader(\n",
    "    train_dataset, batch_size=batch_size, shuffle=True, num_workers=8)   # num_workers=batch_size)\n",
    "val_dataloader = torch.utils.data.DataLoader(\n",
    "    val_dataset, batch_size=batch_size, shuffle=False, num_workers=8)  # num_workers=batch_size)"
   ]
  },
  {
   "cell_type": "code",
   "execution_count": null,
   "metadata": {},
   "outputs": [],
   "source": [
    "len(train_dataloader), len(train_dataset)\n",
    "# N батчей из K картинок (K = N * batch_size)"
   ]
  },
  {
   "cell_type": "code",
   "execution_count": null,
   "metadata": {},
   "outputs": [],
   "source": [
    "mean = np.array([0.485, 0.456, 0.406])\n",
    "std = np.array([0.229, 0.224, 0.225])\n",
    "\n",
    "# Посмотрим на любой пример\n",
    "# permute меняет местами измерения тензора\n",
    "\n",
    "X_batch, y_batch = next(iter(train_dataloader))\n",
    "plt.imshow(X_batch[0].permute(1, 2, 0).numpy() * std + mean);"
   ]
  },
  {
   "cell_type": "code",
   "execution_count": null,
   "metadata": {},
   "outputs": [],
   "source": [
    "def show_input(input_tensor, title=''):\n",
    "    image = input_tensor.permute(1, 2, 0).numpy()\n",
    "    image = std * image + mean\n",
    "    plt.imshow(image.clip(0, 1))\n",
    "    plt.title(title)\n",
    "    plt.show()\n",
    "    plt.pause(0.001)\n",
    "\n",
    "X_batch, y_batch = next(iter(train_dataloader))\n",
    "\n",
    "i = 10\n",
    "for x_item, y_item in zip(X_batch, y_batch):\n",
    "    show_input(x_item, title=class_names[y_item])\n",
    "    i -= 1\n",
    "    if i == 0:\n",
    "        break"
   ]
  },
  {
   "cell_type": "code",
   "execution_count": null,
   "metadata": {},
   "outputs": [],
   "source": [
    "train_batch_loss_history = []\n",
    "train_batch_accuracy_history = []\n",
    "\n",
    "train_loss_history = []\n",
    "train_accuracy_history = []\n",
    "\n",
    "val_loss_history = []\n",
    "val_accuracy_history = []\n",
    "\n",
    "def validate(model, loss, optimizer):\n",
    "        \n",
    "    dataloader = val_dataloader\n",
    "    model.eval()   # Set model to evaluate mode\n",
    "\n",
    "    sum_loss = 0.\n",
    "    sum_accuracy = 0.\n",
    "\n",
    "    for inputs, labels in dataloader: # tqdm(dataloader):\n",
    "        inputs = inputs.cuda()\n",
    "        labels = labels.cuda()\n",
    "\n",
    "        optimizer.zero_grad()\n",
    "\n",
    "        with torch.set_grad_enabled(False):\n",
    "            preds = model(inputs)\n",
    "            loss_value = loss(preds, labels)\n",
    "            preds_class = preds.argmax(dim=1)\n",
    "\n",
    "        sum_loss += loss_value.item()\n",
    "        sum_accuracy += (preds_class == labels.data).float().mean().cpu().numpy().item()\n",
    "\n",
    "    val_loss = sum_loss / len(dataloader)\n",
    "    val_accuracy = sum_accuracy / len(dataloader)\n",
    "\n",
    "    val_loss_history.append(val_loss)\n",
    "    val_accuracy_history.append(val_accuracy)\n",
    "    \n",
    "    print(f'Validation accuracy {val_accuracy * 100:.2f} %, loss {val_loss:.4f}')\n",
    "    if val_accuracy >= 0.92:\n",
    "        allDone()\n",
    "        input()\n",
    "\n",
    "    model.train()  # Вернули как было\n",
    "\n",
    "\n",
    "def train_model(model, loss, optimizer, scheduler, num_epochs):\n",
    "        \n",
    "    for epoch in range(num_epochs):\n",
    "        print(f'\\nEpoch {epoch}/{num_epochs-1}: \\n', end='')\n",
    "\n",
    "        dataloader = train_dataloader\n",
    "        model.train()  # Set model to training mode\n",
    "\n",
    "        sum_loss = 0.\n",
    "        sum_accuracy = 0.\n",
    "\n",
    "        # Прогон по батчам\n",
    "        for inputs, labels in dataloader: # tqdm(dataloader):\n",
    "            inputs = inputs.cuda()\n",
    "            labels = labels.cuda()\n",
    "\n",
    "            optimizer.zero_grad()\n",
    "\n",
    "            # forward and backward\n",
    "            with torch.set_grad_enabled(True):\n",
    "                preds = model(inputs)\n",
    "                loss_value = loss(preds, labels)\n",
    "                preds_class = preds.argmax(dim=1)\n",
    "\n",
    "                loss_value.backward()\n",
    "                optimizer.step()\n",
    "                scheduler.step()\n",
    "\n",
    "            batch_loss = loss_value.item()\n",
    "            batch_accuracy = (preds_class == labels.data).float().mean().cpu().numpy().item()\n",
    "\n",
    "            sum_loss += batch_loss\n",
    "            sum_accuracy += batch_accuracy\n",
    "            \n",
    "            train_batch_loss_history.append(batch_loss)\n",
    "            train_batch_accuracy_history.append(batch_accuracy)\n",
    "            # print(f'\\r----- {phase}, batch accuracy {train_batch_accuracy * 100:.2f} %, batch loss {train_batch_loss:.4f}')        \n",
    "            validate(model, loss, optimizer)\n",
    "            \n",
    "        epoch_loss = sum_loss / len(dataloader)\n",
    "        epoch_acc = sum_accuracy / len(dataloader)\n",
    "\n",
    "        train_loss_history.append(epoch_loss)\n",
    "        train_accuracy_history.append(epoch_acc)\n",
    "        # scheduler.step()  - перенёс внутрь батча\n",
    "\n",
    "        # Валидация\n",
    "        print('\\n End epoch: ', end='')\n",
    "        validate(model, loss, optimizer)\n",
    "        \n",
    "    return model"
   ]
  },
  {
   "cell_type": "code",
   "execution_count": null,
   "metadata": {},
   "outputs": [],
   "source": [
    "# ResNet 18 - самый маленький (обычно берут 50)\n",
    "model = models.mobilenet_v2(pretrained=True)\n",
    "\n",
    "# Disable grad for all conv layers - замораживаем слои ResNet\n",
    "for param in model.parameters():\n",
    "    param.requires_grad = False\n",
    "\n",
    "# Заменяем последний слой на наш (512 входов, 2 выхода) (пересоздаём, поэтому будет разморожен)\n",
    "#model.fc = torch.nn.Linear(model.fc.in_features, 2)\n",
    "model.classifier[1] = torch.nn.Linear(model.classifier[1].in_features, 2)\n",
    "\n",
    "# Кладём на GPU\n",
    "device = torch.device(\"cuda:0\" if torch.cuda.is_available() else \"cpu\")\n",
    "model = model.to(device)\n",
    "\n",
    "# Бинарная кросс-энтропия\n",
    "loss = torch.nn.CrossEntropyLoss(weight=torch.FloatTensor([0.9, 1]).cuda())  # 0.8, 0.75   после 3й эпоъи 4го батча 92,25\n",
    "optimizer = torch.optim.Adam(model.parameters(), lr=1.0e-3, weight_decay=0.1, amsgrad=True)\n",
    "\n",
    "# Decay LR\n",
    "#scheduler = torch.optim.lr_scheduler.StepLR(optimizer, step_size=20*1000, gamma=0.1)  # 512 / 32 = 16  (512 // batch_size * 16)\n",
    "scheduler = torch.optim.lr_scheduler.MultiStepLR(optimizer, milestones=[11132, 11164], gamma=0.0001)  "
   ]
  },
  {
   "cell_type": "code",
   "execution_count": null,
   "metadata": {},
   "outputs": [],
   "source": [
    "print(f'Batch size: {batch_size}\\nBatches: {len(train_dataloader)}\\nAll elements: {len(train_dataset)}')"
   ]
  },
  {
   "cell_type": "code",
   "execution_count": null,
   "metadata": {},
   "outputs": [],
   "source": [
    "from IPython.display import Audio, display\n",
    "\n",
    "def allDone():\n",
    "    display(Audio(url='../../chicken.mp3', autoplay=True))"
   ]
  },
  {
   "cell_type": "code",
   "execution_count": null,
   "metadata": {},
   "outputs": [],
   "source": [
    "# Тренировочка\n",
    "\n",
    "train_model(model, loss, optimizer, scheduler, num_epochs=7);\n",
    "allDone()"
   ]
  },
  {
   "cell_type": "code",
   "execution_count": null,
   "metadata": {},
   "outputs": [],
   "source": [
    "plt.figure(figsize=(20,10))\n",
    "    \n",
    "plt.subplot(1, 3, 1)\n",
    "plt.plot(train_batch_loss_history, label='Train Batch Loss')\n",
    "plt.plot(train_batch_accuracy_history, label='Train Batch Accuracy')\n",
    "plt.legend();\n",
    "\n",
    "plt.subplot(1, 3, 2)\n",
    "plt.plot(train_accuracy_history, label='Train accuracy')\n",
    "plt.plot(val_accuracy_history, label='Val accuracy')\n",
    "plt.legend();\n",
    "    \n",
    "plt.subplot(1, 3, 3)\n",
    "plt.plot(train_loss_history, label='Train Loss')\n",
    "plt.plot(val_loss_history, label='Val Loss')\n",
    "plt.legend();"
   ]
  },
  {
   "cell_type": "code",
   "execution_count": null,
   "metadata": {},
   "outputs": [],
   "source": [
    "print(train_accuracy_history[-1], train_loss_history[-1])"
   ]
  },
  {
   "cell_type": "code",
   "execution_count": null,
   "metadata": {},
   "outputs": [],
   "source": [
    "STOP 666"
   ]
  },
  {
   "cell_type": "code",
   "execution_count": null,
   "metadata": {},
   "outputs": [],
   "source": [
    "# Создадим новую папку и скопируем туда тестовый датасет\n",
    "\n",
    "test_dir = 'test'\n",
    "shutil.copytree(os.path.join(data_root, 'test'), os.path.join(test_dir, 'unknown'));"
   ]
  },
  {
   "cell_type": "code",
   "execution_count": null,
   "metadata": {},
   "outputs": [],
   "source": [
    "# Загружаем тестовый датасет из папки test_dir, применяем трансформации (те же, что и у validation dataset)\n",
    "test_dataset = torchvision.datasets.ImageFolder(test_dir, val_transforms)\n",
    "\n",
    "# Конвертируем в итератор с батчем\n",
    "test_dataloader = torch.utils.data.DataLoader(\n",
    "    test_dataset, batch_size=batch_size, shuffle=False, num_workers=batch_size)"
   ]
  },
  {
   "cell_type": "code",
   "execution_count": null,
   "metadata": {},
   "outputs": [],
   "source": [
    "print(test_dir)\n",
    "print(len(test_dataloader))"
   ]
  },
  {
   "cell_type": "code",
   "execution_count": null,
   "metadata": {},
   "outputs": [],
   "source": [
    "# Посмотрим на картинки\n",
    "X_batch, y_batch = next(iter(test_dataloader))\n",
    "\n",
    "# for x_item, y_item in zip(X_batch, y_batch):\n",
    "#     show_input(x_item, title='unknown')"
   ]
  },
  {
   "cell_type": "code",
   "execution_count": null,
   "metadata": {},
   "outputs": [],
   "source": [
    "model.eval()\n",
    "\n",
    "test_predictions = []\n",
    "#test_img_paths = []\n",
    "i = 1\n",
    "\n",
    "for inputs, labels in test_dataloader:\n",
    "    # paths\n",
    "    inputs = inputs.cuda()\n",
    "    with torch.set_grad_enabled(False):\n",
    "        preds = model(inputs)\n",
    "    test_predictions.append(\n",
    "        torch.nn.functional.softmax(preds, dim=1)[:,1].data.cpu().numpy())\n",
    "    print(f'\\r{i}/{len(test_dataloader)}', end='')\n",
    "    i += 1\n",
    "    #test_img_paths.extend(next(test_files_iter))\n",
    "    \n",
    "test_predictions = np.concatenate(test_predictions)"
   ]
  },
  {
   "cell_type": "code",
   "execution_count": null,
   "metadata": {},
   "outputs": [],
   "source": [
    "inputs, labels = next(iter(test_dataloader))\n",
    "\n",
    "# for img, pred in zip(inputs, test_predictions):\n",
    "#     show_input(img, title=pred)"
   ]
  },
  {
   "cell_type": "code",
   "execution_count": null,
   "metadata": {},
   "outputs": [],
   "source": [
    "# Получаем список файлов из каталога test/unknown. \n",
    "# os.walk возвращает кортеж (каталог, имена подкаталогов, список файлов). Нам нужен список файлов [2]\n",
    "test_files = next(iter(os.walk(os.path.join(test_dir, 'unknown'))))[2]\n",
    "\n",
    "# Переделываем в спиок меток (отбрасываем '.jpg')\n",
    "for i, file in enumerate(test_files):\n",
    "    test_files[i] = test_files[i].split('.')[0]\n",
    "\n",
    "print(test_files[:10])"
   ]
  },
  {
   "cell_type": "code",
   "execution_count": null,
   "metadata": {},
   "outputs": [],
   "source": [
    "submission_df = pd.DataFrame.from_dict({'id': test_files, 'label': test_predictions})"
   ]
  },
  {
   "cell_type": "code",
   "execution_count": null,
   "metadata": {},
   "outputs": [],
   "source": [
    "submission_df['label'] = submission_df['label'].map(lambda pred: 'dirty' if pred > 0.5 else 'cleaned')\n",
    "submission_df['id'] = submission_df['id'].str.replace('test/unknown/', '')\n",
    "submission_df['id'] = submission_df['id'].str.replace('.jpg', '')\n",
    "submission_df.set_index('id', inplace=True)\n",
    "submission_df.head(25)"
   ]
  },
  {
   "cell_type": "code",
   "execution_count": null,
   "metadata": {},
   "outputs": [],
   "source": [
    "submission_df.to_csv('submission.csv')"
   ]
  },
  {
   "cell_type": "code",
   "execution_count": null,
   "metadata": {},
   "outputs": [],
   "source": [
    "!rmdir train test val /s /q\n",
    "# !rm -rf train val test"
   ]
  },
  {
   "cell_type": "code",
   "execution_count": null,
   "metadata": {},
   "outputs": [],
   "source": []
  }
 ],
 "metadata": {
  "kernelspec": {
   "display_name": "Python 3",
   "language": "python",
   "name": "python3"
  },
  "language_info": {
   "codemirror_mode": {
    "name": "ipython",
    "version": 3
   },
   "file_extension": ".py",
   "mimetype": "text/x-python",
   "name": "python",
   "nbconvert_exporter": "python",
   "pygments_lexer": "ipython3",
   "version": "3.7.5"
  }
 },
 "nbformat": 4,
 "nbformat_minor": 4
}
